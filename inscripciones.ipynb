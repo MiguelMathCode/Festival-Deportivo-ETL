{
 "cells": [
  {
   "cell_type": "code",
   "execution_count": 1,
   "metadata": {},
   "outputs": [],
   "source": [
    "import pandas as pd\n",
    "import numpy as np"
   ]
  },
  {
   "cell_type": "code",
   "execution_count": 8,
   "metadata": {},
   "outputs": [],
   "source": [
    "data = pd.read_clipboard()"
   ]
  },
  {
   "cell_type": "code",
   "execution_count": 10,
   "metadata": {},
   "outputs": [
    {
     "name": "stdout",
     "output_type": "stream",
     "text": [
      "Index(['N°', 'Timestamp', '¿Cuál es tu nombre?', '¿Cuántos años tienes?',\n",
      "       '¿Eres miembro de la SGIP (Soka Gakkai Internacional de Panamá) o invitado?',\n",
      "       '¿A cuál división perteneces?',\n",
      "       'Nombre de tu adulto responsable y relación (por ejemplo: Pablo Martínez, papá)',\n",
      "       'Número celular de tu adulto responsable (número de celular)',\n",
      "       'Correo de tu adulto responsable',\n",
      "       '¿A cuál disciplina deseas inscribirte?',\n",
      "       '¿Alguna condición de salud que debamos considerar?',\n",
      "       'Nombre de tu adulto responsable y relación (por ejemplo: Pablo Martínez, papá).1',\n",
      "       'Número de celular de tu adulto responsable.',\n",
      "       'Correo de tu adulto responsable.1',\n",
      "       '¿A cuál disciplina deseas inscribirte?.1',\n",
      "       '¿Alguna condición de salud que debamos considerar?.1',\n",
      "       '¿Cuál es tu número de celular?', '¿Cuál es tu correo?',\n",
      "       '¿A cuál disciplina deseas inscribirte?.2', '¿A qué área perteneces?'],\n",
      "      dtype='object')\n"
     ]
    }
   ],
   "source": [
    "print(data.columns)"
   ]
  },
  {
   "cell_type": "code",
   "execution_count": 11,
   "metadata": {},
   "outputs": [],
   "source": [
    "columns = [\"Nombre\", \"Edad\", \"Área\", \"Miembro\", \"División\", \"Disciplina\", \"Condición_física\"]"
   ]
  },
  {
   "cell_type": "code",
   "execution_count": 13,
   "metadata": {},
   "outputs": [
    {
     "data": {
      "text/html": [
       "<div>\n",
       "<style scoped>\n",
       "    .dataframe tbody tr th:only-of-type {\n",
       "        vertical-align: middle;\n",
       "    }\n",
       "\n",
       "    .dataframe tbody tr th {\n",
       "        vertical-align: top;\n",
       "    }\n",
       "\n",
       "    .dataframe thead th {\n",
       "        text-align: right;\n",
       "    }\n",
       "</style>\n",
       "<table border=\"1\" class=\"dataframe\">\n",
       "  <thead>\n",
       "    <tr style=\"text-align: right;\">\n",
       "      <th></th>\n",
       "      <th>¿A cuál disciplina deseas inscribirte?</th>\n",
       "      <th>¿A cuál disciplina deseas inscribirte?.1</th>\n",
       "      <th>¿A cuál disciplina deseas inscribirte?.2</th>\n",
       "    </tr>\n",
       "  </thead>\n",
       "  <tbody>\n",
       "    <tr>\n",
       "      <th>0</th>\n",
       "      <td>NaN</td>\n",
       "      <td>NaN</td>\n",
       "      <td>Futbol</td>\n",
       "    </tr>\n",
       "    <tr>\n",
       "      <th>1</th>\n",
       "      <td>NaN</td>\n",
       "      <td>Futbol</td>\n",
       "      <td>NaN</td>\n",
       "    </tr>\n",
       "    <tr>\n",
       "      <th>2</th>\n",
       "      <td>NaN</td>\n",
       "      <td>NaN</td>\n",
       "      <td>Futbol</td>\n",
       "    </tr>\n",
       "    <tr>\n",
       "      <th>3</th>\n",
       "      <td>NaN</td>\n",
       "      <td>NaN</td>\n",
       "      <td>Kickball</td>\n",
       "    </tr>\n",
       "    <tr>\n",
       "      <th>4</th>\n",
       "      <td>NaN</td>\n",
       "      <td>NaN</td>\n",
       "      <td>Futbol</td>\n",
       "    </tr>\n",
       "    <tr>\n",
       "      <th>...</th>\n",
       "      <td>...</td>\n",
       "      <td>...</td>\n",
       "      <td>...</td>\n",
       "    </tr>\n",
       "    <tr>\n",
       "      <th>58</th>\n",
       "      <td>NaN</td>\n",
       "      <td>Voleibol</td>\n",
       "      <td>NaN</td>\n",
       "    </tr>\n",
       "    <tr>\n",
       "      <th>59</th>\n",
       "      <td>NaN</td>\n",
       "      <td>Futbol</td>\n",
       "      <td>NaN</td>\n",
       "    </tr>\n",
       "    <tr>\n",
       "      <th>60</th>\n",
       "      <td>NaN</td>\n",
       "      <td>Futbol</td>\n",
       "      <td>NaN</td>\n",
       "    </tr>\n",
       "    <tr>\n",
       "      <th>61</th>\n",
       "      <td>NaN</td>\n",
       "      <td>NaN</td>\n",
       "      <td>Voleibol</td>\n",
       "    </tr>\n",
       "    <tr>\n",
       "      <th>62</th>\n",
       "      <td>Salto de cuerda</td>\n",
       "      <td>NaN</td>\n",
       "      <td>NaN</td>\n",
       "    </tr>\n",
       "  </tbody>\n",
       "</table>\n",
       "<p>63 rows × 3 columns</p>\n",
       "</div>"
      ],
      "text/plain": [
       "   ¿A cuál disciplina deseas inscribirte?  \\\n",
       "0                                     NaN   \n",
       "1                                     NaN   \n",
       "2                                     NaN   \n",
       "3                                     NaN   \n",
       "4                                     NaN   \n",
       "..                                    ...   \n",
       "58                                    NaN   \n",
       "59                                    NaN   \n",
       "60                                    NaN   \n",
       "61                                    NaN   \n",
       "62                        Salto de cuerda   \n",
       "\n",
       "   ¿A cuál disciplina deseas inscribirte?.1  \\\n",
       "0                                       NaN   \n",
       "1                                    Futbol   \n",
       "2                                       NaN   \n",
       "3                                       NaN   \n",
       "4                                       NaN   \n",
       "..                                      ...   \n",
       "58                                 Voleibol   \n",
       "59                                   Futbol   \n",
       "60                                   Futbol   \n",
       "61                                      NaN   \n",
       "62                                      NaN   \n",
       "\n",
       "   ¿A cuál disciplina deseas inscribirte?.2  \n",
       "0                                    Futbol  \n",
       "1                                       NaN  \n",
       "2                                    Futbol  \n",
       "3                                  Kickball  \n",
       "4                                    Futbol  \n",
       "..                                      ...  \n",
       "58                                      NaN  \n",
       "59                                      NaN  \n",
       "60                                      NaN  \n",
       "61                                 Voleibol  \n",
       "62                                      NaN  \n",
       "\n",
       "[63 rows x 3 columns]"
      ]
     },
     "execution_count": 13,
     "metadata": {},
     "output_type": "execute_result"
    }
   ],
   "source": [
    "data[[\"¿A cuál disciplina deseas inscribirte?\", \"¿A cuál disciplina deseas inscribirte?.1\", \"¿A cuál disciplina deseas inscribirte?.2\"]]"
   ]
  },
  {
   "cell_type": "code",
   "execution_count": 19,
   "metadata": {},
   "outputs": [],
   "source": [
    "rules = [\n",
    "    pd.notna(data[\"¿A cuál disciplina deseas inscribirte?\"]),\n",
    "    pd.notna(data[\"¿A cuál disciplina deseas inscribirte?.1\"]),\n",
    "    pd.notna(data[\"¿A cuál disciplina deseas inscribirte?.2\"])\n",
    "]\n",
    "decission = [data[\"¿A cuál disciplina deseas inscribirte?\"],\n",
    "            data[\"¿A cuál disciplina deseas inscribirte?.1\"],\n",
    "            data[\"¿A cuál disciplina deseas inscribirte?.2\"]\n",
    "            ]\n",
    "data[\"disciplinas\"] = np.select(rules, decission)"
   ]
  },
  {
   "cell_type": "code",
   "execution_count": 17,
   "metadata": {},
   "outputs": [
    {
     "data": {
      "text/plain": [
       "['Nombre',\n",
       " 'Edad',\n",
       " 'Área',\n",
       " 'Miembro',\n",
       " 'División',\n",
       " 'Disciplina',\n",
       " 'Condición_física']"
      ]
     },
     "execution_count": 17,
     "metadata": {},
     "output_type": "execute_result"
    }
   ],
   "source": [
    "columns"
   ]
  },
  {
   "cell_type": "code",
   "execution_count": 20,
   "metadata": {},
   "outputs": [
    {
     "data": {
      "text/plain": [
       "Index(['N°', 'Timestamp', '¿Cuál es tu nombre?', '¿Cuántos años tienes?',\n",
       "       '¿Eres miembro de la SGIP (Soka Gakkai Internacional de Panamá) o invitado?',\n",
       "       '¿A cuál división perteneces?',\n",
       "       'Nombre de tu adulto responsable y relación (por ejemplo: Pablo Martínez, papá)',\n",
       "       'Número celular de tu adulto responsable (número de celular)',\n",
       "       'Correo de tu adulto responsable',\n",
       "       '¿A cuál disciplina deseas inscribirte?',\n",
       "       '¿Alguna condición de salud que debamos considerar?',\n",
       "       'Nombre de tu adulto responsable y relación (por ejemplo: Pablo Martínez, papá).1',\n",
       "       'Número de celular de tu adulto responsable.',\n",
       "       'Correo de tu adulto responsable.1',\n",
       "       '¿A cuál disciplina deseas inscribirte?.1',\n",
       "       '¿Alguna condición de salud que debamos considerar?.1',\n",
       "       '¿Cuál es tu número de celular?', '¿Cuál es tu correo?',\n",
       "       '¿A cuál disciplina deseas inscribirte?.2', '¿A qué área perteneces?',\n",
       "       'disciplineas', 'disciplinas'],\n",
       "      dtype='object')"
      ]
     },
     "execution_count": 20,
     "metadata": {},
     "output_type": "execute_result"
    }
   ],
   "source": [
    "data.columns"
   ]
  },
  {
   "cell_type": "code",
   "execution_count": 22,
   "metadata": {},
   "outputs": [],
   "source": [
    "data_filtered = data[[\"¿Cuál es tu nombre?\", \"¿Cuántos años tienes?\", \"¿A qué área perteneces?\",\n",
    "                    \"¿Eres miembro de la SGIP (Soka Gakkai Internacional de Panamá) o invitado?\",\n",
    "                        \"¿A cuál división perteneces?\", \"disciplinas\", \"¿Alguna condición de salud que debamos considerar?\"]]"
   ]
  },
  {
   "cell_type": "code",
   "execution_count": 44,
   "metadata": {},
   "outputs": [],
   "source": [
    "data_filtered.rename({\n",
    "    \"¿Cuál es tu nombre?\": \"Nombre\",\n",
    "    \"¿Cuántos años tienes\": \"Edad\",\n",
    "    \"¿A qué área perteneces\": \"Área\",\n",
    "    \"¿Eres miembro de la SGIP (Soka Gakkai Internacional de Panamá) o invitado?\": \"Miembro\",\n",
    "    \"¿A cuál división perteneces\": \"División\",\n",
    "    \"discplinas\": \"Disciplina\",\n",
    "    \"¿Alguna condición de salud que debamos considerar?\": \"Alguna_condición_de_salud\"\n",
    "}, inplace=True, axis=1)"
   ]
  },
  {
   "cell_type": "code",
   "execution_count": 46,
   "metadata": {},
   "outputs": [],
   "source": [
    "data_filtered.columns = [\"Nombre\", \"Edad\",\"Área\", \"Miembro\", \"División\", \"Disciplina\", \"Alguna_condición_de_salud\"]"
   ]
  },
  {
   "cell_type": "code",
   "execution_count": 54,
   "metadata": {},
   "outputs": [
    {
     "name": "stderr",
     "output_type": "stream",
     "text": [
      "/tmp/ipykernel_19890/836346982.py:1: FutureWarning: The default value of regex will change from True to False in a future version.\n",
      "  data_filtered[\"Edad\"] = data_filtered[\"Edad\"].str.replace(r\"\\D+\", \"\")\n"
     ]
    }
   ],
   "source": [
    "data_filtered[\"Edad\"] = data_filtered[\"Edad\"].str.replace(r\"\\D+\", \"\")"
   ]
  },
  {
   "cell_type": "code",
   "execution_count": 56,
   "metadata": {},
   "outputs": [],
   "source": [
    "data_filtered.to_clipboard()"
   ]
  },
  {
   "cell_type": "code",
   "execution_count": 58,
   "metadata": {},
   "outputs": [
    {
     "data": {
      "text/plain": [
       "Disciplina\n",
       "Artes Marciales (Karate / Judo)     3\n",
       "Artes marciales (Judo / Karate)     2\n",
       "Artes marciales (karate / judo)     3\n",
       "Carrera de sacos                    1\n",
       "Freestyle                           1\n",
       "Futbol                             16\n",
       "Kickball                            5\n",
       "Kickbol                             1\n",
       "Ping Pong                           5\n",
       "Salto de cuerda                     1\n",
       "Voleibol                           24\n",
       "Name: División, dtype: int64"
      ]
     },
     "execution_count": 58,
     "metadata": {},
     "output_type": "execute_result"
    }
   ],
   "source": [
    "data_filtered.groupby(by=[\"Disciplina\"])[\"División\"].count()"
   ]
  }
 ],
 "metadata": {
  "kernelspec": {
   "display_name": "env",
   "language": "python",
   "name": "python3"
  },
  "language_info": {
   "codemirror_mode": {
    "name": "ipython",
    "version": 3
   },
   "file_extension": ".py",
   "mimetype": "text/x-python",
   "name": "python",
   "nbconvert_exporter": "python",
   "pygments_lexer": "ipython3",
   "version": "3.9.7"
  },
  "orig_nbformat": 4,
  "vscode": {
   "interpreter": {
    "hash": "95ef4b7d4cd35e135063008ac604d6e832c5544976e106090a844aa36d224a78"
   }
  }
 },
 "nbformat": 4,
 "nbformat_minor": 2
}
